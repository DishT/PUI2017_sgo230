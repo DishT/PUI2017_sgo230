{
 "cells": [
  {
   "cell_type": "code",
   "execution_count": 15,
   "metadata": {
    "collapsed": false
   },
   "outputs": [],
   "source": [
    "from __future__  import print_function, division\n",
    "\n",
    "import os\n",
    "import pandas as pd\n",
    "import pandas as pd\n",
    "import numpy as np\n",
    "import scipy.stats as scipy"
   ]
  },
  {
   "cell_type": "markdown",
   "metadata": {},
   "source": [
    "<b>Null hypothesis </b> (from https://github.com/sgo230/PUI2017_sgo230/tree/master/HW3_sgo230):<br>\n",
    "The commute time is the same or longer with the new bus route as it was before\n",
    "\n",
    "<b>H0:</b>\n",
    "$New Route Commute Time {\\mathrm{}}\\ >= Old Route Commute Time {\\mathrm{}}$\n",
    "\n",
    "<b>Alternative hypothesis </b>:<br>\n",
    "The commute time is the shorter with the new bus route as it was before\n",
    "\n",
    "Ha:\n",
    "$New Route Commute Time {\\mathrm{}}\\ < Old Route Commute Time {\\mathrm{}}$\n",
    "\n",
    "<br>\n",
    "Alpha: 5% <br>\n",
    "Confidence level: 95%"
   ]
  },
  {
   "cell_type": "markdown",
   "metadata": {},
   "source": [
    "<b>Create dataframe</b>"
   ]
  },
  {
   "cell_type": "code",
   "execution_count": 9,
   "metadata": {
    "collapsed": false,
    "scrolled": true
   },
   "outputs": [
    {
     "data": {
      "text/plain": [
       "(100,)"
      ]
     },
     "execution_count": 9,
     "metadata": {},
     "output_type": "execute_result"
    }
   ],
   "source": [
    "df = pd.read_csv('https://raw.githubusercontent.com/fedhere/PUI2017_fb55/' + \n",
    "                 'master/Lab3_fb55/times.txt', header=None).values.squeeze()\n",
    "df.shape"
   ]
  },
  {
   "cell_type": "code",
   "execution_count": 34,
   "metadata": {
    "collapsed": false
   },
   "outputs": [
    {
     "name": "stdout",
     "output_type": "stream",
     "text": [
      "Population mean: 36\n",
      "Population standard deviation: 6\n",
      "Sample mean: 34.4662\n",
      "Sample standard deviation: 7.1015\n"
     ]
    }
   ],
   "source": [
    "new_mean = df.mean()\n",
    "pop_mean = 36\n",
    "pop_std_dev = 6\n",
    "new_std_dev = df.std()\n",
    "obs = df.shape[0]\n",
    "\n",
    "print('Population mean: {:d}'.format(pop_mean))\n",
    "print('Population standard deviation: {:d}'.format(pop_std_dev))\n",
    "print('Sample mean: {:.4f}'.format(new_mean))\n",
    "print('Sample standard deviation: {:.4f}'.format(new_std_dev))"
   ]
  },
  {
   "cell_type": "code",
   "execution_count": 25,
   "metadata": {
    "collapsed": false
   },
   "outputs": [
    {
     "name": "stdout",
     "output_type": "stream",
     "text": [
      "Z-score: 2.5564\n"
     ]
    }
   ],
   "source": [
    "z = (pop_mean - new_mean) / (pop_std_dev/ np.sqrt(int(obs)))\n",
    "print('Z-score: {:.4f}'.format(z))"
   ]
  },
  {
   "cell_type": "code",
   "execution_count": 37,
   "metadata": {
    "collapsed": false
   },
   "outputs": [
    {
     "name": "stdout",
     "output_type": "stream",
     "text": [
      "Z-score threshold: 1.6449\n"
     ]
    }
   ],
   "source": [
    "# Use scipy to get z-score needed to reject the null hypothesis for a single-tailed\n",
    "# test at the 95% confidence level\n",
    "z_score_test = scipy.norm.ppf(.95)\n",
    "print('Z-score threshold: {:.4f}'.format(z_score_test))"
   ]
  },
  {
   "cell_type": "code",
   "execution_count": 38,
   "metadata": {
    "collapsed": false
   },
   "outputs": [
    {
     "name": "stdout",
     "output_type": "stream",
     "text": [
      "We reject the null hypothesis at the 95% confidence level\n"
     ]
    }
   ],
   "source": [
    "if z > z_score_test:\n",
    "    print(\"We reject the null hypothesis at the 95% confidence level\")\n",
    "else:\n",
    "    # morework to do\n",
    "    print (\"We do not reject the null at the 95% confidence level\")"
   ]
  },
  {
   "cell_type": "code",
   "execution_count": 41,
   "metadata": {
    "collapsed": false
   },
   "outputs": [
    {
     "name": "stdout",
     "output_type": "stream",
     "text": [
      "P-value: 0.0053\n"
     ]
    }
   ],
   "source": [
    "# Get p-value for our result\n",
    "p_value = scipy.norm.cdf(z)\n",
    "print('P-value: {:.4f}'.format(1-p_value))"
   ]
  },
  {
   "cell_type": "code",
   "execution_count": null,
   "metadata": {
    "collapsed": true
   },
   "outputs": [],
   "source": []
  }
 ],
 "metadata": {
  "kernelspec": {
   "display_name": "PUI2016_Python2",
   "language": "python",
   "name": "pui2016_python2"
  },
  "language_info": {
   "codemirror_mode": {
    "name": "ipython",
    "version": 2
   },
   "file_extension": ".py",
   "mimetype": "text/x-python",
   "name": "python",
   "nbconvert_exporter": "python",
   "pygments_lexer": "ipython2",
   "version": "2.7.12"
  }
 },
 "nbformat": 4,
 "nbformat_minor": 0
}
